{
 "cells": [
  {
   "cell_type": "code",
   "execution_count": 1,
   "id": "4104b398",
   "metadata": {},
   "outputs": [
    {
     "ename": "ModuleNotFoundError",
     "evalue": "No module named 'matplotlib'",
     "output_type": "error",
     "traceback": [
      "\u001b[1;31m---------------------------------------------------------------------------\u001b[0m",
      "\u001b[1;31mModuleNotFoundError\u001b[0m                       Traceback (most recent call last)",
      "\u001b[1;32m<ipython-input-1-aedd6b8de480>\u001b[0m in \u001b[0;36m<module>\u001b[1;34m\u001b[0m\n\u001b[0;32m      1\u001b[0m \u001b[1;32mimport\u001b[0m \u001b[0mpsycopg2\u001b[0m\u001b[1;33m\u001b[0m\u001b[1;33m\u001b[0m\u001b[0m\n\u001b[0;32m      2\u001b[0m \u001b[1;32mimport\u001b[0m \u001b[0mre\u001b[0m\u001b[1;33m\u001b[0m\u001b[1;33m\u001b[0m\u001b[0m\n\u001b[1;32m----> 3\u001b[1;33m \u001b[1;32mimport\u001b[0m \u001b[0mmatplotlib\u001b[0m\u001b[1;33m.\u001b[0m\u001b[0mpyplot\u001b[0m \u001b[1;32mas\u001b[0m \u001b[0mplt\u001b[0m\u001b[1;33m\u001b[0m\u001b[1;33m\u001b[0m\u001b[0m\n\u001b[0m\u001b[0;32m      4\u001b[0m \u001b[1;32mimport\u001b[0m \u001b[0mos\u001b[0m\u001b[1;33m\u001b[0m\u001b[1;33m\u001b[0m\u001b[0m\n\u001b[0;32m      5\u001b[0m \u001b[1;32mimport\u001b[0m \u001b[0mpandas\u001b[0m \u001b[1;32mas\u001b[0m \u001b[0mpd\u001b[0m\u001b[1;33m\u001b[0m\u001b[1;33m\u001b[0m\u001b[0m\n",
      "\u001b[1;31mModuleNotFoundError\u001b[0m: No module named 'matplotlib'"
     ]
    }
   ],
   "source": [
    "# -*- coding: utf-8 -*-\n",
    "\n",
    "\"\"\"\n",
    "Created on Sat April 30 11:11:45 2021\n",
    "@author Eon Sik Jeong\n",
    "\"\"\"\n",
    "\n",
    "import psycopg2\n",
    "import re\n",
    "import matplotlib.pyplot as plt\n",
    "import os\n",
    "import pandas as pd\n",
    "\n",
    "# connection to database:\n",
    "try:\n",
    "    conn = psycopg2.connect(\"dbname='spatial' user='postgres' host='localhost' password='jes0791'\")\n",
    "except:\n",
    "    print(\"cant connect to the database\")\n",
    "\n",
    "cur = conn.cursor()\n",
    "cur2 = conn.cursor()\n",
    "cur3 = conn.cursor()\n",
    "input_altkey = 3565215\n",
    "\n",
    "sql = \"select parid::integer from volusia.parcel p where geom is not null\" # limit 10\"\n",
    "\n",
    "print('SQL: ', sql)\n",
    "cur.execute(sql)\n",
    "\n",
    "i=0\n",
    "row = cur.fetchone()\n",
    "while row is not None:\n",
    "    i = i + 1\n",
    "    parid = str(row[0])\n",
    "    sql2 = select ST_Distance(ST_SetSRID(s.geom, 2236), (select geom from volusia.gis_parcels p2 where p2.altkey=3565215))/5280 as distance from volusia.storm_surge s order by ST_SetSRID(s.geom, 2236) <-> (select p2.geom from volusia.gis_parcels p2 where p2.altkey=3565215);\n",
    "    cur2.execute(sql2)\n",
    "    row2 = cur2.fetchone()\n",
    "    parid2 = str(row2[0])\n",
    "    distance = row2[2]\n",
    "    sql3 = \"update volusia.parcel p1 set dist_stormsurge = \" + str(distance) + \" where p1.parid=\" + parid + \";\"\n",
    "    cur3.execute(sql3)\n",
    "    # print(sql3)\n",
    "    \n",
    "    \n",
    "    if i%10000 == 0:\n",
    "        print(i)\n",
    "        conn.commit()\n",
    "    row = cur.fetchone()\n",
    "\n",
    "#df = pd.\n",
    "conn.commit()\n",
    "conn.close()"
   ]
  },
  {
   "cell_type": "code",
   "execution_count": null,
   "id": "c5454edc",
   "metadata": {},
   "outputs": [],
   "source": []
  }
 ],
 "metadata": {
  "kernelspec": {
   "display_name": "Python 3",
   "language": "python",
   "name": "python3"
  },
  "language_info": {
   "codemirror_mode": {
    "name": "ipython",
    "version": 3
   },
   "file_extension": ".py",
   "mimetype": "text/x-python",
   "name": "python",
   "nbconvert_exporter": "python",
   "pygments_lexer": "ipython3",
   "version": "3.9.1"
  }
 },
 "nbformat": 4,
 "nbformat_minor": 5
}
